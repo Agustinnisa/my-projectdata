{
  "nbformat": 4,
  "nbformat_minor": 0,
  "metadata": {
    "colab": {
      "provenance": []
    },
    "kernelspec": {
      "name": "python3",
      "display_name": "Python 3"
    },
    "language_info": {
      "name": "python"
    },
    "accelerator": "GPU",
    "gpuClass": "standard"
  },
  "cells": [
    {
      "cell_type": "code",
      "source": [
        "nama = 'Tria Agusti Khoirun Nisa'\n",
        "email = 'nisaagustin6@gmail.com'\n",
        "alamat = 'Watesprojo, Kemlagi, Mojokerto'\n",
        "proyek = 'Image Classification Model Deployment'\n",
        "\n",
        "print(nama, email, alamat, proyek)"
      ],
      "metadata": {
        "colab": {
          "base_uri": "https://localhost:8080/"
        },
        "id": "a1Lz2P1CzboI",
        "outputId": "fcb2b6cc-99da-476b-f768-e226983d8bd4"
      },
      "execution_count": 1,
      "outputs": [
        {
          "output_type": "stream",
          "name": "stdout",
          "text": [
            "Tria Agusti Khoirun Nisa nisaagustin6@gmail.com Watesprojo, Kemlagi, Mojokerto Image Classification Model Deployment\n"
          ]
        }
      ]
    },
    {
      "cell_type": "markdown",
      "source": [
        "Menghubungkan dataset yang ada di Google Drive dengan Google Colab"
      ],
      "metadata": {
        "id": "LfQIDn0CzwSP"
      }
    },
    {
      "cell_type": "code",
      "source": [
        "from google.colab import drive\n",
        "drive.mount('/content/drive')"
      ],
      "metadata": {
        "colab": {
          "base_uri": "https://localhost:8080/"
        },
        "id": "HfZ6del8zz-i",
        "outputId": "3117e51f-55af-4cca-ad02-c5a025f57e41"
      },
      "execution_count": 2,
      "outputs": [
        {
          "output_type": "stream",
          "name": "stdout",
          "text": [
            "Mounted at /content/drive\n"
          ]
        }
      ]
    },
    {
      "cell_type": "markdown",
      "source": [
        "Mengimpor library yang dibutuhkan dalam proyek"
      ],
      "metadata": {
        "id": "VBd4IQtHz_P7"
      }
    },
    {
      "cell_type": "code",
      "source": [
        "import tensorflow as tf\n",
        "import pandas as pd\n",
        "import os \n",
        "import numpy as np\n",
        "import matplotlib.pyplot as plt\n",
        "\n",
        "from tensorflow.keras.preprocessing.image import ImageDataGenerator"
      ],
      "metadata": {
        "id": "jBkOwqB20COk"
      },
      "execution_count": 3,
      "outputs": []
    },
    {
      "cell_type": "markdown",
      "source": [
        "Membuat nama untuk directory yang ada di dataset dalam Google Drive dan melihat kelasnya "
      ],
      "metadata": {
        "id": "ffN_ZZ_70HiK"
      }
    },
    {
      "cell_type": "code",
      "source": [
        "base_dir = '/content/drive/MyDrive/satelit'\n",
        "os.listdir(base_dir)"
      ],
      "metadata": {
        "colab": {
          "base_uri": "https://localhost:8080/"
        },
        "id": "VQwf0KhZ0PNK",
        "outputId": "cd18791f-eef5-484b-f6ea-e26492e3930b"
      },
      "execution_count": 4,
      "outputs": [
        {
          "output_type": "execute_result",
          "data": {
            "text/plain": [
              "['green_area', 'water', 'cloudy', 'desert']"
            ]
          },
          "metadata": {},
          "execution_count": 4
        }
      ]
    },
    {
      "cell_type": "markdown",
      "source": [
        "Proses Augmentasi Dataset dibagi menjadi 80% train set dan 20% test set."
      ],
      "metadata": {
        "id": "U4oHMNsc0X9W"
      }
    },
    {
      "cell_type": "code",
      "source": [
        "train_datagen = ImageDataGenerator(\n",
        "    rescale=1./255,\n",
        "    rotation_range=20,\n",
        "    horizontal_flip=True,\n",
        "    shear_range=0.2,\n",
        "    fill_mode='wrap',\n",
        "    validation_split=0.2)"
      ],
      "metadata": {
        "id": "4HNb2xWV0vlo"
      },
      "execution_count": 5,
      "outputs": []
    },
    {
      "cell_type": "markdown",
      "source": [
        "Menyiapkan data latih dan data validasi dari kumpulan data gambar yang di-load dalam memori melalui fungsi flow()"
      ],
      "metadata": {
        "id": "7cXwhHy11Nfq"
      }
    },
    {
      "cell_type": "code",
      "source": [
        "train_generator = train_datagen.flow_from_directory(\n",
        "    base_dir, \n",
        "    target_size=(100,150),\n",
        "    shuffle=True,\n",
        "    subset='training')\n",
        "\n",
        "validation_generator = train_datagen.flow_from_directory(\n",
        "    base_dir,\n",
        "    target_size=(100,150),\n",
        "    subset='validation')"
      ],
      "metadata": {
        "colab": {
          "base_uri": "https://localhost:8080/"
        },
        "id": "HdhBM5YT1STC",
        "outputId": "e0da52f4-3d36-4a50-b6d7-af917014596a"
      },
      "execution_count": 6,
      "outputs": [
        {
          "output_type": "stream",
          "name": "stdout",
          "text": [
            "Found 3721 images belonging to 4 classes.\n",
            "Found 929 images belonging to 4 classes.\n"
          ]
        }
      ]
    },
    {
      "cell_type": "markdown",
      "source": [
        "Pembuatan CNN (Convolutional Neural Network). Proses klasifikasi gambar hanya berfokus pada atribut-atribut unik yang membedakan tiap kategori."
      ],
      "metadata": {
        "id": "IU9UU-W51iej"
      }
    },
    {
      "cell_type": "code",
      "source": [
        "model = tf.keras.models.Sequential([\n",
        "    tf.keras.layers.Conv2D(16, (3,3), activation='relu', input_shape=(100, 150, 3)),\n",
        "    tf.keras.layers.MaxPooling2D(2, 2),\n",
        "    tf.keras.layers.Conv2D(32, (3,3), activation='relu'),\n",
        "    tf.keras.layers.MaxPooling2D(2,2),\n",
        "    tf.keras.layers.Conv2D(64, (3,3), activation='relu'),\n",
        "    tf.keras.layers.MaxPooling2D(2,2),\n",
        "    tf.keras.layers.Flatten(),\n",
        "    tf.keras.layers.Dense(512, activation='relu'),\n",
        "    tf.keras.layers.Dense(4, activation='softmax')\n",
        "])\n",
        "\n",
        "model.summary()"
      ],
      "metadata": {
        "colab": {
          "base_uri": "https://localhost:8080/"
        },
        "id": "dOeqMGh41yyO",
        "outputId": "21d4ed71-72d2-4a6a-9af3-c1ac278be024"
      },
      "execution_count": 7,
      "outputs": [
        {
          "output_type": "stream",
          "name": "stdout",
          "text": [
            "Model: \"sequential\"\n",
            "_________________________________________________________________\n",
            " Layer (type)                Output Shape              Param #   \n",
            "=================================================================\n",
            " conv2d (Conv2D)             (None, 98, 148, 16)       448       \n",
            "                                                                 \n",
            " max_pooling2d (MaxPooling2D  (None, 49, 74, 16)       0         \n",
            " )                                                               \n",
            "                                                                 \n",
            " conv2d_1 (Conv2D)           (None, 47, 72, 32)        4640      \n",
            "                                                                 \n",
            " max_pooling2d_1 (MaxPooling  (None, 23, 36, 32)       0         \n",
            " 2D)                                                             \n",
            "                                                                 \n",
            " conv2d_2 (Conv2D)           (None, 21, 34, 64)        18496     \n",
            "                                                                 \n",
            " max_pooling2d_2 (MaxPooling  (None, 10, 17, 64)       0         \n",
            " 2D)                                                             \n",
            "                                                                 \n",
            " flatten (Flatten)           (None, 10880)             0         \n",
            "                                                                 \n",
            " dense (Dense)               (None, 512)               5571072   \n",
            "                                                                 \n",
            " dense_1 (Dense)             (None, 4)                 2052      \n",
            "                                                                 \n",
            "=================================================================\n",
            "Total params: 5,596,708\n",
            "Trainable params: 5,596,708\n",
            "Non-trainable params: 0\n",
            "_________________________________________________________________\n"
          ]
        }
      ]
    },
    {
      "cell_type": "markdown",
      "source": [
        "Melakukan compile model menggunakan fungsi compile()"
      ],
      "metadata": {
        "id": "lvo_Ih872EOM"
      }
    },
    {
      "cell_type": "code",
      "source": [
        "model.compile(loss='categorical_crossentropy',\n",
        "              optimizer=tf.optimizers.Adam(),\n",
        "              metrics=['accuracy'])"
      ],
      "metadata": {
        "id": "rIqMh17b2KPs"
      },
      "execution_count": 8,
      "outputs": []
    },
    {
      "cell_type": "markdown",
      "source": [
        "Menggunakan Callback"
      ],
      "metadata": {
        "id": "mXa0J9q-2PEQ"
      }
    },
    {
      "cell_type": "code",
      "source": [
        "class myCallback(tf.keras.callbacks.Callback):\n",
        "  def on_epoch_end(self, epoch, logs={}):\n",
        "    if(logs.get('accuracy')>0.90):\n",
        "      print(\"\\nAkurasi telah mencapai >90%!\")\n",
        "      self.model.stop_training = True\n",
        "      \n",
        "callbacks = myCallback()"
      ],
      "metadata": {
        "id": "1kJQkbry2VVR"
      },
      "execution_count": 9,
      "outputs": []
    },
    {
      "cell_type": "markdown",
      "source": [
        "Pembuatan model yaitu model fitting. Proses ini memasukkan data latih pada jaringan Neural Network yang telah dibuat sebelumnya."
      ],
      "metadata": {
        "id": "csot4u4m2ceI"
      }
    },
    {
      "cell_type": "code",
      "source": [
        "history = model.fit(\n",
        "                    train_generator,\n",
        "                    steps_per_epoch=25,\n",
        "                    epochs=50,\n",
        "                    validation_data=validation_generator,\n",
        "                    validation_steps=4,\n",
        "                    verbose=2)"
      ],
      "metadata": {
        "colab": {
          "base_uri": "https://localhost:8080/"
        },
        "id": "T9wd2vpo2liO",
        "outputId": "a7f0c4b2-3338-430e-9a87-6956fdb09595"
      },
      "execution_count": 13,
      "outputs": [
        {
          "output_type": "stream",
          "name": "stdout",
          "text": [
            "Epoch 1/50\n",
            "25/25 - 7s - loss: 0.2739 - accuracy: 0.8913 - val_loss: 0.2329 - val_accuracy: 0.8672 - 7s/epoch - 268ms/step\n",
            "Epoch 2/50\n",
            "25/25 - 6s - loss: 0.2624 - accuracy: 0.9062 - val_loss: 0.2618 - val_accuracy: 0.9062 - 6s/epoch - 224ms/step\n",
            "Epoch 3/50\n",
            "25/25 - 6s - loss: 0.2357 - accuracy: 0.9075 - val_loss: 0.2437 - val_accuracy: 0.8906 - 6s/epoch - 230ms/step\n",
            "Epoch 4/50\n",
            "25/25 - 6s - loss: 0.2302 - accuracy: 0.9175 - val_loss: 0.1493 - val_accuracy: 0.9531 - 6s/epoch - 229ms/step\n",
            "Epoch 5/50\n",
            "25/25 - 6s - loss: 0.2251 - accuracy: 0.9175 - val_loss: 0.2241 - val_accuracy: 0.9141 - 6s/epoch - 228ms/step\n",
            "Epoch 6/50\n",
            "25/25 - 6s - loss: 0.2803 - accuracy: 0.8938 - val_loss: 0.2528 - val_accuracy: 0.8828 - 6s/epoch - 232ms/step\n",
            "Epoch 7/50\n",
            "25/25 - 6s - loss: 0.2529 - accuracy: 0.9035 - val_loss: 0.2762 - val_accuracy: 0.8906 - 6s/epoch - 230ms/step\n",
            "Epoch 8/50\n",
            "25/25 - 6s - loss: 0.2700 - accuracy: 0.8950 - val_loss: 0.2265 - val_accuracy: 0.8828 - 6s/epoch - 226ms/step\n",
            "Epoch 9/50\n",
            "25/25 - 6s - loss: 0.2555 - accuracy: 0.9050 - val_loss: 0.3441 - val_accuracy: 0.8828 - 6s/epoch - 222ms/step\n",
            "Epoch 10/50\n",
            "25/25 - 6s - loss: 0.2348 - accuracy: 0.9075 - val_loss: 0.1646 - val_accuracy: 0.9297 - 6s/epoch - 222ms/step\n",
            "Epoch 11/50\n",
            "25/25 - 6s - loss: 0.1887 - accuracy: 0.9275 - val_loss: 0.1691 - val_accuracy: 0.9297 - 6s/epoch - 222ms/step\n",
            "Epoch 12/50\n",
            "25/25 - 6s - loss: 0.2671 - accuracy: 0.9038 - val_loss: 0.2164 - val_accuracy: 0.9297 - 6s/epoch - 223ms/step\n",
            "Epoch 13/50\n",
            "25/25 - 6s - loss: 0.2191 - accuracy: 0.9275 - val_loss: 0.2003 - val_accuracy: 0.9219 - 6s/epoch - 222ms/step\n",
            "Epoch 14/50\n",
            "25/25 - 6s - loss: 0.2148 - accuracy: 0.9200 - val_loss: 0.1761 - val_accuracy: 0.9531 - 6s/epoch - 220ms/step\n",
            "Epoch 15/50\n",
            "25/25 - 6s - loss: 0.1795 - accuracy: 0.9362 - val_loss: 0.1212 - val_accuracy: 0.9688 - 6s/epoch - 221ms/step\n",
            "Epoch 16/50\n",
            "25/25 - 6s - loss: 0.2210 - accuracy: 0.9112 - val_loss: 0.2351 - val_accuracy: 0.8672 - 6s/epoch - 225ms/step\n",
            "Epoch 17/50\n",
            "25/25 - 6s - loss: 0.2118 - accuracy: 0.9189 - val_loss: 0.2109 - val_accuracy: 0.9062 - 6s/epoch - 221ms/step\n",
            "Epoch 18/50\n",
            "25/25 - 6s - loss: 0.2052 - accuracy: 0.9200 - val_loss: 0.2281 - val_accuracy: 0.9062 - 6s/epoch - 226ms/step\n",
            "Epoch 19/50\n",
            "25/25 - 6s - loss: 0.3148 - accuracy: 0.8988 - val_loss: 0.2930 - val_accuracy: 0.9141 - 6s/epoch - 223ms/step\n",
            "Epoch 20/50\n",
            "25/25 - 6s - loss: 0.2543 - accuracy: 0.9000 - val_loss: 0.2426 - val_accuracy: 0.9297 - 6s/epoch - 221ms/step\n",
            "Epoch 21/50\n",
            "25/25 - 6s - loss: 0.2044 - accuracy: 0.9212 - val_loss: 0.1947 - val_accuracy: 0.9062 - 6s/epoch - 220ms/step\n",
            "Epoch 22/50\n",
            "25/25 - 6s - loss: 0.2674 - accuracy: 0.9050 - val_loss: 0.1840 - val_accuracy: 0.9297 - 6s/epoch - 221ms/step\n",
            "Epoch 23/50\n",
            "25/25 - 5s - loss: 0.2236 - accuracy: 0.9125 - val_loss: 0.2021 - val_accuracy: 0.9141 - 5s/epoch - 219ms/step\n",
            "Epoch 24/50\n",
            "25/25 - 6s - loss: 0.2241 - accuracy: 0.9175 - val_loss: 0.2225 - val_accuracy: 0.9141 - 6s/epoch - 221ms/step\n",
            "Epoch 25/50\n",
            "25/25 - 5s - loss: 0.3007 - accuracy: 0.8788 - val_loss: 0.1608 - val_accuracy: 0.9531 - 5s/epoch - 220ms/step\n",
            "Epoch 26/50\n",
            "25/25 - 5s - loss: 0.2321 - accuracy: 0.9062 - val_loss: 0.2212 - val_accuracy: 0.9062 - 5s/epoch - 220ms/step\n",
            "Epoch 27/50\n",
            "25/25 - 5s - loss: 0.2392 - accuracy: 0.8932 - val_loss: 0.2325 - val_accuracy: 0.9375 - 5s/epoch - 216ms/step\n",
            "Epoch 28/50\n",
            "25/25 - 6s - loss: 0.2182 - accuracy: 0.9225 - val_loss: 0.2226 - val_accuracy: 0.8906 - 6s/epoch - 224ms/step\n",
            "Epoch 29/50\n",
            "25/25 - 6s - loss: 0.2051 - accuracy: 0.9162 - val_loss: 0.3360 - val_accuracy: 0.8750 - 6s/epoch - 231ms/step\n",
            "Epoch 30/50\n",
            "25/25 - 6s - loss: 0.2244 - accuracy: 0.9187 - val_loss: 0.2392 - val_accuracy: 0.9297 - 6s/epoch - 230ms/step\n",
            "Epoch 31/50\n",
            "25/25 - 6s - loss: 0.2689 - accuracy: 0.8888 - val_loss: 0.1883 - val_accuracy: 0.9297 - 6s/epoch - 230ms/step\n",
            "Epoch 32/50\n",
            "25/25 - 6s - loss: 0.1924 - accuracy: 0.9200 - val_loss: 0.1584 - val_accuracy: 0.9453 - 6s/epoch - 224ms/step\n",
            "Epoch 33/50\n",
            "25/25 - 5s - loss: 0.1988 - accuracy: 0.9200 - val_loss: 0.1964 - val_accuracy: 0.9219 - 5s/epoch - 218ms/step\n",
            "Epoch 34/50\n",
            "25/25 - 6s - loss: 0.1720 - accuracy: 0.9413 - val_loss: 0.1365 - val_accuracy: 0.9688 - 6s/epoch - 226ms/step\n",
            "Epoch 35/50\n",
            "25/25 - 6s - loss: 0.1602 - accuracy: 0.9325 - val_loss: 0.1981 - val_accuracy: 0.9297 - 6s/epoch - 225ms/step\n",
            "Epoch 36/50\n",
            "25/25 - 6s - loss: 0.1780 - accuracy: 0.9356 - val_loss: 0.1473 - val_accuracy: 0.9375 - 6s/epoch - 226ms/step\n",
            "Epoch 37/50\n",
            "25/25 - 6s - loss: 0.1176 - accuracy: 0.9525 - val_loss: 0.2162 - val_accuracy: 0.8828 - 6s/epoch - 222ms/step\n",
            "Epoch 38/50\n",
            "25/25 - 5s - loss: 0.2133 - accuracy: 0.9086 - val_loss: 0.2957 - val_accuracy: 0.8750 - 5s/epoch - 220ms/step\n",
            "Epoch 39/50\n",
            "25/25 - 5s - loss: 0.1890 - accuracy: 0.9237 - val_loss: 0.3018 - val_accuracy: 0.8906 - 5s/epoch - 219ms/step\n",
            "Epoch 40/50\n",
            "25/25 - 5s - loss: 0.1978 - accuracy: 0.9225 - val_loss: 0.2867 - val_accuracy: 0.8828 - 5s/epoch - 217ms/step\n",
            "Epoch 41/50\n",
            "25/25 - 6s - loss: 0.2179 - accuracy: 0.9225 - val_loss: 0.2026 - val_accuracy: 0.8984 - 6s/epoch - 221ms/step\n",
            "Epoch 42/50\n",
            "25/25 - 6s - loss: 0.2338 - accuracy: 0.9162 - val_loss: 0.1578 - val_accuracy: 0.9375 - 6s/epoch - 226ms/step\n",
            "Epoch 43/50\n",
            "25/25 - 6s - loss: 0.1596 - accuracy: 0.9362 - val_loss: 0.3196 - val_accuracy: 0.8750 - 6s/epoch - 222ms/step\n",
            "Epoch 44/50\n",
            "25/25 - 5s - loss: 0.1932 - accuracy: 0.9202 - val_loss: 0.1910 - val_accuracy: 0.9219 - 5s/epoch - 212ms/step\n",
            "Epoch 45/50\n",
            "25/25 - 6s - loss: 0.2074 - accuracy: 0.9200 - val_loss: 0.1384 - val_accuracy: 0.9297 - 6s/epoch - 225ms/step\n",
            "Epoch 46/50\n",
            "25/25 - 6s - loss: 0.1644 - accuracy: 0.9438 - val_loss: 0.1563 - val_accuracy: 0.9453 - 6s/epoch - 223ms/step\n",
            "Epoch 47/50\n",
            "25/25 - 6s - loss: 0.1672 - accuracy: 0.9450 - val_loss: 0.1819 - val_accuracy: 0.9297 - 6s/epoch - 221ms/step\n",
            "Epoch 48/50\n",
            "25/25 - 5s - loss: 0.1538 - accuracy: 0.9388 - val_loss: 0.1868 - val_accuracy: 0.9141 - 5s/epoch - 217ms/step\n",
            "Epoch 49/50\n",
            "25/25 - 5s - loss: 0.1584 - accuracy: 0.9438 - val_loss: 0.1222 - val_accuracy: 0.9453 - 5s/epoch - 218ms/step\n",
            "Epoch 50/50\n",
            "25/25 - 5s - loss: 0.1507 - accuracy: 0.9447 - val_loss: 0.2061 - val_accuracy: 0.9062 - 5s/epoch - 214ms/step\n"
          ]
        }
      ]
    },
    {
      "cell_type": "markdown",
      "source": [
        " Membuat plot terhadap akurasi dan loss model"
      ],
      "metadata": {
        "id": "Wq4Kj8mJAtkb"
      }
    },
    {
      "cell_type": "code",
      "source": [
        "#plot for accuracy\n",
        "plt.plot(history.history['accuracy'])\n",
        "plt.plot(history.history['val_accuracy'])\n",
        "plt.title('Model Accuracy')\n",
        "\n",
        "plt.show()\n",
        "\n",
        "#plot for loss\n",
        "plt.plot(history.history['loss'])\n",
        "plt.plot(history.history['val_loss'])\n",
        "plt.title('Model Loss')\n",
        "\n",
        "plt.show()"
      ],
      "metadata": {
        "colab": {
          "base_uri": "https://localhost:8080/",
          "height": 545
        },
        "id": "rPvWpoKsBHF0",
        "outputId": "a9e13689-793a-4075-fb07-797c70578d4e"
      },
      "execution_count": 14,
      "outputs": [
        {
          "output_type": "display_data",
          "data": {
            "text/plain": [
              "<Figure size 432x288 with 1 Axes>"
            ],
            "image/png": "[encoded data removed]"
          },
          "metadata": {
            "needs_background": "light"
          }
        },
        {
          "output_type": "display_data",
          "data": {
            "text/plain": [
              "<Figure size 432x288 with 1 Axes>"
            ],
            "image/png": "[encoded data removed]"
          },
          "metadata": {
            "needs_background": "light"
          }
        }
      ]
    },
    {
      "cell_type": "markdown",
      "source": [
        "Menulis kode untuk menyimpan model ke dalam format TF-Lite"
      ],
      "metadata": {
        "id": "-SL8ZNq6BU5L"
      }
    },
    {
      "cell_type": "code",
      "source": [
        "converter = tf.lite.TFLiteConverter.from_keras_model(model)\n",
        "tflite_model = converter.convert()\n",
        "with tf.io.gfile.GFile('model.tflite', 'wb') as f:\n",
        "    f.write(tflite_model)"
      ],
      "metadata": {
        "colab": {
          "base_uri": "https://localhost:8080/"
        },
        "id": "w1IajQPfBdou",
        "outputId": "56f7df66-4df4-4054-faac-ca0223d5d449"
      },
      "execution_count": 15,
      "outputs": [
        {
          "output_type": "stream",
          "name": "stderr",
          "text": [
            "WARNING:absl:Found untraced functions such as _jit_compiled_convolution_op, _jit_compiled_convolution_op, _jit_compiled_convolution_op while saving (showing 3 of 3). These functions will not be directly callable after loading.\n"
          ]
        }
      ]
    }
  ]
}